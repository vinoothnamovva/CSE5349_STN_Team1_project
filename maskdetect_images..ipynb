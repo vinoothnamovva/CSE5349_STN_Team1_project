{
 "cells": [
  {
   "cell_type": "code",
   "execution_count": 1,
   "metadata": {},
   "outputs": [],
   "source": [
    "from tensorflow.keras.applications.mobilenet_v2 import preprocess_input\n",
    "from tensorflow.keras.preprocessing.image import img_to_array\n",
    "from tensorflow.keras.models import load_model\n",
    "import numpy as np\n",
    "import cv2\n",
    "import os"
   ]
  },
  {
   "cell_type": "code",
   "execution_count": 2,
   "metadata": {},
   "outputs": [],
   "source": [
    "prototxPath=os.path.sep.join([r'deploy.prototxt'])\n",
    "wghtsPath=os.path.sep.join([r'res10_300x300_ssd_iter_140000.caffemodel'])\n"
   ]
  },
  {
   "cell_type": "code",
   "execution_count": 3,
   "metadata": {},
   "outputs": [
    {
     "data": {
      "text/plain": [
       "'deploy.prototxt'"
      ]
     },
     "execution_count": 3,
     "metadata": {},
     "output_type": "execute_result"
    }
   ],
   "source": [
    "prototxPath"
   ]
  },
  {
   "cell_type": "code",
   "execution_count": 4,
   "metadata": {},
   "outputs": [
    {
     "data": {
      "text/plain": [
       "'res10_300x300_ssd_iter_140000.caffemodel'"
      ]
     },
     "execution_count": 4,
     "metadata": {},
     "output_type": "execute_result"
    }
   ],
   "source": [
    "wghtsPath"
   ]
  },
  {
   "cell_type": "code",
   "execution_count": 5,
   "metadata": {},
   "outputs": [],
   "source": [
    "net=cv2.dnn.readNet(prototxPath,wghtsPath)"
   ]
  },
  {
   "cell_type": "code",
   "execution_count": null,
   "metadata": {},
   "outputs": [],
   "source": []
  },
  {
   "cell_type": "code",
   "execution_count": 6,
   "metadata": {},
   "outputs": [],
   "source": [
    "model=load_model(r'maskdetector.model')"
   ]
  },
  {
   "cell_type": "code",
   "execution_count": 7,
   "metadata": {},
   "outputs": [],
   "source": [
    "#loading an image to test\n",
    "img=cv2.imread(r'example4.png')"
   ]
  },
  {
   "cell_type": "code",
   "execution_count": 8,
   "metadata": {},
   "outputs": [
    {
     "data": {
      "text/plain": [
       "array([[[ 48,  54,  59],\n",
       "        [ 48,  54,  59],\n",
       "        [ 48,  54,  59],\n",
       "        ...,\n",
       "        [129, 128, 130],\n",
       "        [129, 128, 130],\n",
       "        [130, 129, 131]],\n",
       "\n",
       "       [[ 48,  54,  59],\n",
       "        [ 47,  53,  58],\n",
       "        [ 48,  54,  59],\n",
       "        ...,\n",
       "        [131, 130, 132],\n",
       "        [131, 130, 132],\n",
       "        [131, 130, 132]],\n",
       "\n",
       "       [[ 49,  55,  60],\n",
       "        [ 49,  55,  60],\n",
       "        [ 48,  54,  59],\n",
       "        ...,\n",
       "        [132, 131, 133],\n",
       "        [133, 132, 134],\n",
       "        [130, 129, 131]],\n",
       "\n",
       "       ...,\n",
       "\n",
       "       [[103, 110, 149],\n",
       "        [104, 111, 150],\n",
       "        [101, 108, 147],\n",
       "        ...,\n",
       "        [202, 204, 228],\n",
       "        [202, 204, 228],\n",
       "        [201, 203, 227]],\n",
       "\n",
       "       [[106, 113, 152],\n",
       "        [107, 114, 153],\n",
       "        [ 99, 106, 145],\n",
       "        ...,\n",
       "        [202, 204, 228],\n",
       "        [202, 204, 228],\n",
       "        [202, 204, 228]],\n",
       "\n",
       "       [[ 99, 108, 146],\n",
       "        [104, 113, 151],\n",
       "        [100, 109, 147],\n",
       "        ...,\n",
       "        [206, 208, 232],\n",
       "        [206, 208, 232],\n",
       "        [207, 208, 229]]], dtype=uint8)"
      ]
     },
     "execution_count": 8,
     "metadata": {},
     "output_type": "execute_result"
    }
   ],
   "source": [
    "img"
   ]
  },
  {
   "cell_type": "code",
   "execution_count": 9,
   "metadata": {},
   "outputs": [],
   "source": [
    "(h,w)=img.shape[:2]"
   ]
  },
  {
   "cell_type": "code",
   "execution_count": 10,
   "metadata": {},
   "outputs": [
    {
     "data": {
      "text/plain": [
       "(1051, 939)"
      ]
     },
     "execution_count": 10,
     "metadata": {},
     "output_type": "execute_result"
    }
   ],
   "source": [
    "(h,w)"
   ]
  },
  {
   "cell_type": "code",
   "execution_count": 11,
   "metadata": {},
   "outputs": [],
   "source": [
    "blob=cv2.dnn.blobFromImage(img,1.0,(300,300),(104.0,177.0,123.0))"
   ]
  },
  {
   "cell_type": "code",
   "execution_count": 12,
   "metadata": {},
   "outputs": [
    {
     "data": {
      "text/plain": [
       "array([[[[ -57.,  -54.,  -56., ...,   25.,   25.,   27.],\n",
       "         [ -55.,  -54.,  -56., ...,   30.,   28.,   27.],\n",
       "         [ -55.,  -54.,  -56., ...,   27.,   30.,   28.],\n",
       "         ...,\n",
       "         [   3.,   -1.,   -5., ...,   98.,   98.,   98.],\n",
       "         [  -6.,    1.,    0., ...,   98.,   98.,   98.],\n",
       "         [   2.,   -1.,    1., ...,   98.,   98.,   98.]],\n",
       "\n",
       "        [[-124., -121., -123., ...,  -49.,  -49.,  -47.],\n",
       "         [-122., -121., -123., ...,  -44.,  -46.,  -47.],\n",
       "         [-122., -121., -123., ...,  -47.,  -44.,  -46.],\n",
       "         ...,\n",
       "         [ -61.,  -65.,  -68., ...,   27.,   27.,   27.],\n",
       "         [ -72.,  -65.,  -66., ...,   27.,   27.,   27.],\n",
       "         [ -64.,  -67.,  -65., ...,   27.,   27.,   27.]],\n",
       "\n",
       "        [[ -65.,  -62.,  -64., ...,    7.,    7.,    9.],\n",
       "         [ -63.,  -62.,  -64., ...,   12.,   10.,    9.],\n",
       "         [ -63.,  -62.,  -64., ...,    9.,   12.,   10.],\n",
       "         ...,\n",
       "         [  31.,   27.,   24., ...,  105.,  105.,  105.],\n",
       "         [  21.,   28.,   27., ...,  105.,  105.,  105.],\n",
       "         [  29.,   26.,   28., ...,  105.,  105.,  105.]]]], dtype=float32)"
      ]
     },
     "execution_count": 12,
     "metadata": {},
     "output_type": "execute_result"
    }
   ],
   "source": [
    "blob"
   ]
  },
  {
   "cell_type": "code",
   "execution_count": 13,
   "metadata": {},
   "outputs": [
    {
     "data": {
      "text/plain": [
       "(1, 3, 300, 300)"
      ]
     },
     "execution_count": 13,
     "metadata": {},
     "output_type": "execute_result"
    }
   ],
   "source": [
    "blob.shape"
   ]
  },
  {
   "cell_type": "code",
   "execution_count": 14,
   "metadata": {},
   "outputs": [],
   "source": [
    "net.setInput(blob)\n",
    "dtection=net.forward()"
   ]
  },
  {
   "cell_type": "code",
   "execution_count": 15,
   "metadata": {},
   "outputs": [
    {
     "data": {
      "text/plain": [
       "array([[[[0.        , 1.        , 0.99957174, ..., 0.10500476,\n",
       "          0.71922636, 0.64488685],\n",
       "         [0.        , 1.        , 0.1778277 , ..., 0.4191376 ,\n",
       "          1.0715886 , 1.0622818 ],\n",
       "         [0.        , 1.        , 0.11848845, ..., 4.0076714 ,\n",
       "          4.839086  , 4.9851522 ],\n",
       "         ...,\n",
       "         [0.        , 0.        , 0.        , ..., 0.        ,\n",
       "          0.        , 0.        ],\n",
       "         [0.        , 0.        , 0.        , ..., 0.        ,\n",
       "          0.        , 0.        ],\n",
       "         [0.        , 0.        , 0.        , ..., 0.        ,\n",
       "          0.        , 0.        ]]]], dtype=float32)"
      ]
     },
     "execution_count": 15,
     "metadata": {},
     "output_type": "execute_result"
    }
   ],
   "source": [
    "dtection"
   ]
  },
  {
   "cell_type": "code",
   "execution_count": 16,
   "metadata": {},
   "outputs": [
    {
     "name": "stdout",
     "output_type": "stream",
     "text": [
      "1/1 [==============================] - 3s 3s/step\n"
     ]
    }
   ],
   "source": [
    "# detections loop\n",
    "for i in range(0,dtection.shape[2]):\n",
    "    confidence=dtection[0,0,i,2]\n",
    "    \n",
    "    if confidence>0.5:\n",
    "        box=dtection[0,0,i,3:7]*np.array([w,h,w,h])\n",
    "        (startX,startY,endX,endY)=box.astype('int')\n",
    "        \n",
    "        # bound boxes should fall within the dimensions \n",
    "        (startX,startY)=(max(0,startX),max(0,startY))\n",
    "        (endX,endY)=(min(w-1,endX), min(h-1,endY))\n",
    "        #extract  ROI, resizing it to 224,224 and preprocess it\n",
    "        face=img[startY:endY, startX:endX]\n",
    "        face=cv2.cvtColor(face,cv2.COLOR_BGR2RGB)\n",
    "        face=cv2.resize(face,(224,224))\n",
    "        face=img_to_array(face)\n",
    "        face=preprocess_input(face)\n",
    "        face=np.expand_dims(face,axis=0)\n",
    "        \n",
    "        (mask,withoutMask)=model.predict(face)[0]\n",
    "        \n",
    "        label='Mask' if mask>withoutMask else 'No Mask'\n",
    "        color=(0,255,0) if label=='Mask' else (0,0,255)\n",
    "        #Prob in model\n",
    "        label=\"{}: {:.2f}%\".format(label,max(mask,withoutMask)*100)\n",
    "        #display the label and bound box\n",
    "        cv2.putText(img,label,(startX,startY-10),cv2.FONT_HERSHEY_SIMPLEX,0.45,color,2)\n",
    "        cv2.rectangle(img,(startX,startY),(endX,endY),color,2)\n",
    "                \n",
    "#display output         \n",
    "cv2.imshow(\"OutPut\",img)\n",
    "cv2.waitKey(0)\n",
    "cv2.destroyAllWindows()"
   ]
  },
  {
   "cell_type": "code",
   "execution_count": null,
   "metadata": {},
   "outputs": [],
   "source": []
  },
  {
   "cell_type": "code",
   "execution_count": null,
   "metadata": {},
   "outputs": [],
   "source": []
  }
 ],
 "metadata": {
  "kernelspec": {
   "display_name": "Python 3",
   "language": "python",
   "name": "python3"
  },
  "language_info": {
   "codemirror_mode": {
    "name": "ipython",
    "version": 3
   },
   "file_extension": ".py",
   "mimetype": "text/x-python",
   "name": "python",
   "nbconvert_exporter": "python",
   "pygments_lexer": "ipython3",
   "version": "3.8.8"
  }
 },
 "nbformat": 4,
 "nbformat_minor": 2
}
